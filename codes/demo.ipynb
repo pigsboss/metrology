{
 "cells": [
  {
   "cell_type": "code",
   "execution_count": 1,
   "id": "cd348deb-4e63-4a54-8609-dc0573d109d2",
   "metadata": {},
   "outputs": [
    {
     "name": "stdout",
     "output_type": "stream",
     "text": [
      "Configuration loaded from ./config.yml\n",
      "============================================================\n",
      "  + Red laser parameters:\n",
      "    - Typical wavelength: 635.0 ± 1.0 nm\n",
      "    - Wavelength instability: 0.5 nm\n",
      "    - Peak intensity: 1e+06 counts/s\n",
      "    - Power imbalance: 9.999999999999999e-05 %\n",
      "------------------------------------------------------------\n",
      "  + Green laser parameters:\n",
      "    - Typical wavelength: 532.0 ± 1.0 nm\n",
      "    - Wavelength instability: 0.5 nm\n",
      "    - Peak intensity: 1e+06 counts/s\n",
      "    - Power imbalance: 9.999999999999999e-05 %\n",
      "------------------------------------------------------------\n",
      "  + Blue laser parameters:\n",
      "    - Typical wavelength: 405.0 ± 1.0 nm\n",
      "    - Wavelength instability: 0.5 nm\n",
      "    - Peak intensity: 1e+06 counts/s\n",
      "    - Power imbalance: 9.999999999999999e-05 %\n",
      "------------------------------------------------------------\n",
      "  + Interference sensor parameters:\n",
      "    - Gain deviation: 1.0 %\n",
      "    - Phase deviation: 1.0 %\n",
      "    - Background: 1e2\n",
      "------------------------------------------------------------\n",
      "  + ToF sensor parameters:\n",
      "    - Precision: 10.0 mm\n",
      "------------------------------------------------------------\n",
      "  + Runtime parameters:\n",
      "    - Spectral resolution: 100\n",
      "    - Distance resolution: 0.1 nm\n",
      "    - Parameter resolution: 100\n",
      "============================================================\n"
     ]
    }
   ],
   "source": [
    "run -i metrology.py"
   ]
  },
  {
   "cell_type": "code",
   "execution_count": 2,
   "id": "27075be5-0a2f-47a5-bf10-8cdb648b3088",
   "metadata": {},
   "outputs": [
    {
     "data": {
      "text/plain": [
       "[<matplotlib.lines.Line2D at 0x7f1b0837e1d0>]"
      ]
     },
     "execution_count": 2,
     "metadata": {},
     "output_type": "execute_result"
    },
    {
     "data": {
      "image/png": "[encoded data removed]",
      "text/plain": [
       "<Figure size 640x480 with 1 Axes>"
      ]
     },
     "metadata": {},
     "output_type": "display_data"
    }
   ],
   "source": [
    "r,g,b,tof = get_sensors_data(np.arange(-1000,1000,1.))\n",
    "x_r = (r[0,:,0]-r[0,:,2])/(r[0,:,0]+r[0,:,2])\n",
    "y_r = (r[0,:,1]-r[0,:,3])/(r[0,:,1]+r[0,:,3])\n",
    "x_g = (g[0,:,0]-g[0,:,2])/(g[0,:,0]+g[0,:,2])\n",
    "y_g = (g[0,:,1]-g[0,:,3])/(g[0,:,1]+g[0,:,3])\n",
    "x_b = (b[0,:,0]-b[0,:,2])/(b[0,:,0]+b[0,:,2])\n",
    "y_b = (b[0,:,1]-b[0,:,3])/(b[0,:,1]+b[0,:,3])\n",
    "phi_r=np.arctan2(y_r, x_r)\n",
    "phi_g=np.arctan2(y_g, x_g)\n",
    "phi_b=np.arctan2(y_b, x_b)\n",
    "#plt.plot(np.log(((x_r-x_g)**2. + (y_r-y_g)**2.)**.5))\n",
    "plt.plot(((\n",
    "    (phi_r*cfg.r_wavelength/2./np.pi - phi_g*cfg.g_wavelength/2./np.pi)**2.+\n",
    "    (phi_g*cfg.g_wavelength/2./np.pi - phi_b*cfg.b_wavelength/2./np.pi)**2.+\n",
    "    (phi_b*cfg.b_wavelength/2./np.pi - phi_r*cfg.r_wavelength/2./np.pi)**2.\n",
    ")**.5))\n",
    "#plt.plot(phi_r*cfg.r_wavelength/2./np.pi)\n",
    "#plt.plot(phi_g*cfg.g_wavelength/2./np.pi)"
   ]
  },
  {
   "cell_type": "code",
   "execution_count": 246,
   "id": "da8cba58-9fa5-4442-b31d-cfbf51b75b18",
   "metadata": {},
   "outputs": [
    {
     "name": "stdout",
     "output_type": "stream",
     "text": [
      "1.399237284952957\n",
      "2.0820949516147653\n"
     ]
    }
   ],
   "source": [
    "print(np.rad2deg(np.arctan2(y_r[0],x_r[0])))\n",
    "print(np.rad2deg(np.arctan2(y_g[0],x_g[0])))"
   ]
  },
  {
   "cell_type": "code",
   "execution_count": null,
   "id": "01e37f6c-e6e5-4eb0-bbfa-00c4c6385f54",
   "metadata": {},
   "outputs": [],
   "source": []
  }
 ],
 "metadata": {
  "kernelspec": {
   "display_name": "Python 3 (ipykernel)",
   "language": "python",
   "name": "python3"
  },
  "language_info": {
   "codemirror_mode": {
    "name": "ipython",
    "version": 3
   },
   "file_extension": ".py",
   "mimetype": "text/x-python",
   "name": "python",
   "nbconvert_exporter": "python",
   "pygments_lexer": "ipython3",
   "version": "3.11.0rc1"
  }
 },
 "nbformat": 4,
 "nbformat_minor": 5
}
